{
 "cells": [
  {
   "cell_type": "markdown",
   "metadata": {},
   "source": [
    "# Machine learning\n"
   ]
  },
  {
   "cell_type": "code",
   "execution_count": 32,
   "metadata": {},
   "outputs": [],
   "source": [
    "from sklearn.linear_model import LogisticRegression\n",
    "\n",
    "from sklearn import metrics\n",
    "\n",
    "from sklearn import preprocessing\n",
    "\n",
    "from sklearn import utils\n",
    "\n",
    "from sklearn.grid_search import GridSearchCV, RandomizedSearchCV\n",
    "\n",
    "from sklearn.cross_validation import train_test_split"
   ]
  },
  {
   "cell_type": "markdown",
   "metadata": {},
   "source": [
    "# For data manipulation"
   ]
  },
  {
   "cell_type": "code",
   "execution_count": 33,
   "metadata": {},
   "outputs": [],
   "source": [
    "import pandas as pd\n",
    "\n",
    "import numpy as np\n"
   ]
  },
  {
   "cell_type": "markdown",
   "metadata": {},
   "source": [
    "# To plot"
   ]
  },
  {
   "cell_type": "code",
   "execution_count": 34,
   "metadata": {},
   "outputs": [],
   "source": [
    "import matplotlib.pyplot as plt\n",
    "\n",
    "import seaborn"
   ]
  },
  {
   "cell_type": "markdown",
   "metadata": {},
   "source": [
    "# sql import"
   ]
  },
  {
   "cell_type": "code",
   "execution_count": 35,
   "metadata": {},
   "outputs": [],
   "source": [
    "import psycopg2\n",
    "import datetime\n"
   ]
  },
  {
   "cell_type": "markdown",
   "metadata": {},
   "source": [
    "# Load dataset Read sqlite query results into a pandas DataFrame"
   ]
  },
  {
   "cell_type": "code",
   "execution_count": 36,
   "metadata": {},
   "outputs": [],
   "source": [
    "### Database connection\n",
    "\n",
    "conn_string = \"host='localhost' dbname='stockmarket' user='postgres' password='123456'\"\n",
    "conn = psycopg2.connect(conn_string)\n",
    "\n",
    "## Read dataset\n",
    "\n",
    "df = pd.read_sql_query(\n",
    "    '''select i.date ,i.open ,i.high ,i.low ,i.close ,i.adj_close ,i.volume ,c.name\n",
    "    from information i \n",
    "    join company c\n",
    "    on i.company_id=c.id\n",
    "    where company_id = {}'''.format(3)  , conn, index_col='date')\n",
    "df.index = pd.to_datetime(df.index)\n"
   ]
  },
  {
   "cell_type": "markdown",
   "metadata": {},
   "source": [
    "# Verify that result of SQL query is stored in the dataframe\n"
   ]
  },
  {
   "cell_type": "code",
   "execution_count": 37,
   "metadata": {},
   "outputs": [
    {
     "name": "stdout",
     "output_type": "stream",
     "text": [
      "                open      high       low     close  adj_close      volume  \\\n",
      "date                                                                        \n",
      "1986-03-12  0.444196  0.448661  0.441964  0.441964   0.020108  21420000.0   \n",
      "1986-03-13  0.441964  0.446429  0.435268  0.441964   0.020108  28991200.0   \n",
      "1986-03-14  0.441964  0.468750  0.441964  0.466518   0.021225  96213600.0   \n",
      "1986-03-17  0.464286  0.464286  0.453125  0.464286   0.021123  29680000.0   \n",
      "1986-03-18  0.464286  0.486607  0.462054  0.479911   0.021834  62339200.0   \n",
      "\n",
      "            name  \n",
      "date              \n",
      "1986-03-12  AAPL  \n",
      "1986-03-13  AAPL  \n",
      "1986-03-14  AAPL  \n",
      "1986-03-17  AAPL  \n",
      "1986-03-18  AAPL  \n"
     ]
    }
   ],
   "source": [
    "print(df.head())"
   ]
  },
  {
   "cell_type": "markdown",
   "metadata": {},
   "source": [
    "## adding  features"
   ]
  },
  {
   "cell_type": "code",
   "execution_count": 38,
   "metadata": {},
   "outputs": [],
   "source": [
    "conn.close()\n",
    "\n",
    "df= df.dropna()\n",
    "\n",
    "df['open-close'] = df.open - df.close\n",
    "\n",
    "df['high-low'] = df.high - df.low"
   ]
  },
  {
   "cell_type": "markdown",
   "metadata": {},
   "source": [
    "# relative strength index\n"
   ]
  },
  {
   "cell_type": "code",
   "execution_count": 39,
   "metadata": {},
   "outputs": [],
   "source": [
    "def RSI(series, period):\n",
    "    delta = series.diff().dropna()\n",
    "    u = delta * 0\n",
    "    d = u.copy()\n",
    "    u[delta > 0] = delta[delta > 0]\n",
    "    d[delta < 0] = -delta[delta < 0]\n",
    "    u[u.index[period-1]] = np.mean( u[:period] ) #first value is sum of avg gains\n",
    "    u = u.drop(u.index[:(period-1)])\n",
    "    d[d.index[period-1]] = np.mean( d[:period] ) #first value is sum of avg losses\n",
    "    d = d.drop(d.index[:(period-1)])\n",
    "    rs = pd.stats.moments.ewma(u, com=period-1, adjust=False) / \\\n",
    "         pd.stats.moments.ewma(d, com=period-1, adjust=False)\n",
    "    return 100 - 100 / (1 + rs)\n"
   ]
  },
  {
   "cell_type": "markdown",
   "metadata": {},
   "source": [
    "### We will use 10-days moving average, correlation,relative strength index (RSI), the difference between the open price of yesterday and today, difference close price of yesterday and open price of today,open, high, low, and close price as indicators to make the prediction."
   ]
  },
  {
   "cell_type": "code",
   "execution_count": 40,
   "metadata": {},
   "outputs": [
    {
     "name": "stderr",
     "output_type": "stream",
     "text": [
      "C:\\Anaconda3\\lib\\site-packages\\ipykernel_launcher.py:11: FutureWarning: pd.ewm_mean is deprecated for Series and will be removed in a future version, replace with \n",
      "\tSeries.ewm(com=9,min_periods=0,adjust=False,ignore_na=False).mean()\n",
      "  # This is added back by InteractiveShellApp.init_path()\n"
     ]
    }
   ],
   "source": [
    "df['S_10'] = df['close'].rolling(window=10).mean()\n",
    "\n",
    "df['Corr'] = df['close'].rolling(window=10).corr(df['S_10'])\n",
    "\n",
    "df['RSI'] = RSI(series=df['close'], period =10)\n",
    "\n",
    "df['open-close'] = df['open'] - df['close'].shift(1)\n",
    "\n",
    "df['open-open'] = df['open'] - df['open'].shift(1)\n",
    "\n",
    "df = df.dropna()"
   ]
  },
  {
   "cell_type": "markdown",
   "metadata": {},
   "source": [
    "## The dependent variable is same as discussed in the above example. If the tomorrow’s closing price is higher than today’s closing price, then we will buy the stock (1), else we will sell it (-1).\n"
   ]
  },
  {
   "cell_type": "code",
   "execution_count": 41,
   "metadata": {},
   "outputs": [],
   "source": [
    "feature_cols = ['open','high','low','close','S_10','Corr','RSI','open-close','open-open']\n",
    "\n",
    "x = df[feature_cols]\n",
    "\n",
    "y = np.where (df['close'].shift(-1) > df['close'],1,-1)"
   ]
  },
  {
   "cell_type": "markdown",
   "metadata": {},
   "source": [
    "# split our data"
   ]
  },
  {
   "cell_type": "code",
   "execution_count": 42,
   "metadata": {},
   "outputs": [],
   "source": [
    "x_train,x_test,y_train,y_test = train_test_split(x,y,test_size = 0.2, random_state=4)"
   ]
  },
  {
   "cell_type": "markdown",
   "metadata": {},
   "source": [
    "## We will instantiate the logistic regression using ‘LogisticRegression’ function and fit the model on the training dataset using ‘fit’ function."
   ]
  },
  {
   "cell_type": "code",
   "execution_count": 43,
   "metadata": {},
   "outputs": [],
   "source": [
    "model = LogisticRegression()\n",
    "\n",
    "model = model.fit (x_train,y_train)"
   ]
  },
  {
   "cell_type": "markdown",
   "metadata": {},
   "source": [
    "# Examine The Coefficients"
   ]
  },
  {
   "cell_type": "code",
   "execution_count": 44,
   "metadata": {},
   "outputs": [
    {
     "name": "stdout",
     "output_type": "stream",
     "text": [
      "            0                         1\n",
      "0        open   [0.0028731425457884374]\n",
      "1        high     [0.08422596634593675]\n",
      "2         low     [0.09984257748682968]\n",
      "3       close     [-0.1498717597224444]\n",
      "4        S_10   [-0.036084583907396856]\n",
      "5        Corr     [0.06105623687525228]\n",
      "6         RSI  [0.00016489237078286614]\n",
      "7  open-close     [0.03223369018096681]\n",
      "8   open-open    [-0.05260000056966648]\n"
     ]
    }
   ],
   "source": [
    "print(pd.DataFrame(list(zip(x.columns, np.transpose(model.coef_)))))"
   ]
  },
  {
   "cell_type": "markdown",
   "metadata": {},
   "source": [
    "# Calculate Class Probabilities"
   ]
  },
  {
   "cell_type": "code",
   "execution_count": 45,
   "metadata": {},
   "outputs": [
    {
     "name": "stdout",
     "output_type": "stream",
     "text": [
      "[[0.51098231 0.48901769]\n",
      " [0.51191149 0.48808851]\n",
      " [0.49308376 0.50691624]\n",
      " ...\n",
      " [0.49974154 0.50025846]\n",
      " [0.50078098 0.49921902]\n",
      " [0.49037691 0.50962309]]\n"
     ]
    }
   ],
   "source": [
    "probability = model.predict_proba(x_test)\n",
    "\n",
    "print (probability)"
   ]
  },
  {
   "cell_type": "markdown",
   "metadata": {},
   "source": [
    "# Predict Class Labels"
   ]
  },
  {
   "cell_type": "code",
   "execution_count": 46,
   "metadata": {},
   "outputs": [
    {
     "name": "stdout",
     "output_type": "stream",
     "text": [
      "date\n",
      "1986-04-08   -1\n",
      "1986-04-09   -1\n",
      "1986-04-10   -1\n",
      "1986-04-11   -1\n",
      "1986-04-14   -1\n",
      "Name: Predicted_Signal, dtype: int32\n"
     ]
    }
   ],
   "source": [
    "df['Predicted_Signal'] = model.predict(x)\n",
    "print(df['Predicted_Signal'].head())"
   ]
  },
  {
   "cell_type": "markdown",
   "metadata": {},
   "source": [
    "# Confusion matrix"
   ]
  },
  {
   "cell_type": "code",
   "execution_count": 47,
   "metadata": {
    "scrolled": true
   },
   "outputs": [
    {
     "name": "stdout",
     "output_type": "stream",
     "text": [
      "[[609 194]\n",
      " [562 245]]\n"
     ]
    }
   ],
   "source": [
    "print (metrics.confusion_matrix(y_test, predicted))"
   ]
  },
  {
   "cell_type": "markdown",
   "metadata": {},
   "source": [
    "# Classification report"
   ]
  },
  {
   "cell_type": "code",
   "execution_count": 48,
   "metadata": {
    "scrolled": true
   },
   "outputs": [
    {
     "name": "stdout",
     "output_type": "stream",
     "text": [
      "             precision    recall  f1-score   support\n",
      "\n",
      "         -1       0.52      0.76      0.62       803\n",
      "          1       0.56      0.30      0.39       807\n",
      "\n",
      "avg / total       0.54      0.53      0.50      1610\n",
      "\n"
     ]
    }
   ],
   "source": [
    "print (metrics.classification_report(y_test, predicted))"
   ]
  },
  {
   "cell_type": "markdown",
   "metadata": {},
   "source": [
    "# Model accuracy"
   ]
  },
  {
   "cell_type": "code",
   "execution_count": 49,
   "metadata": {},
   "outputs": [
    {
     "name": "stdout",
     "output_type": "stream",
     "text": [
      "0.5304347826086957\n"
     ]
    }
   ],
   "source": [
    "print (model.score(x_test,y_test))"
   ]
  },
  {
   "cell_type": "markdown",
   "metadata": {},
   "source": [
    "## Create Trading Strategy Using The Model We will predict the signal to buy (1) or sell (-1) and calculate the cumulative returns for test dataset. Next, we will calculate the cumulative strategy return based on the signal predicted by the model in the test dataset. We will also plot the cumulative returns.\n"
   ]
  },
  {
   "cell_type": "markdown",
   "metadata": {},
   "source": [
    "# Cumulative Returns"
   ]
  },
  {
   "cell_type": "code",
   "execution_count": 50,
   "metadata": {
    "scrolled": true
   },
   "outputs": [
    {
     "name": "stdout",
     "output_type": "stream",
     "text": [
      "HEAD OF RETURNS \n",
      " date\n",
      "1986-04-08         NaN\n",
      "1986-04-09   -0.018266\n",
      "1986-04-10    0.004597\n",
      "1986-04-11   -0.009216\n",
      "1986-04-14   -0.004640\n",
      "Name: Returns, dtype: float64 \n",
      "\n",
      "\n",
      "\n",
      " TAIL OF RETURNS \n",
      " date\n",
      "2018-03-07   -0.009326\n",
      "2018-03-08    0.010853\n",
      "2018-03-09    0.017035\n",
      "2018-03-12    0.009621\n",
      "2018-03-13   -0.009677\n",
      "Name: Returns, dtype: float64 \n",
      "\n",
      "\n",
      "\n",
      " TAIL OF CUMULATIVE RETURNS \n",
      " date\n",
      "2011-10-18    0.534295\n",
      "2011-10-19   -5.222237\n",
      "2011-10-20   -6.056065\n",
      "2011-10-21   -6.675214\n",
      "2011-10-24   -3.444441\n",
      "Name: Returns, dtype: float64 \n",
      "\n",
      "\n",
      "\n",
      " HEAD OF CUMULATIVE RETURNS \n",
      " date\n",
      "2018-03-07    107.063660\n",
      "2018-03-08    108.148992\n",
      "2018-03-09    109.852493\n",
      "2018-03-12    110.814627\n",
      "2018-03-13    109.846940\n",
      "Name: Returns, dtype: float64\n"
     ]
    }
   ],
   "source": [
    "split = int(0.8*len(df))\n",
    "\n",
    "df['Returns'] = np.log(df['close']/df['close'].shift(1))\n",
    "\n",
    "Cumulative_Returns = df[split:]['Returns'].cumsum()*100\n",
    "\n",
    "print('HEAD OF RETURNS','\\n',df['Returns'].head(),'\\n\\n\\n\\n','TAIL OF RETURNS','\\n',df['Returns'].tail(),'\\n\\n\\n\\n','TAIL OF CUMULATIVE RETURNS','\\n',Cumulative_Returns.head(),'\\n\\n\\n\\n','HEAD OF CUMULATIVE RETURNS','\\n',Cumulative_Returns.tail())"
   ]
  },
  {
   "cell_type": "markdown",
   "metadata": {},
   "source": [
    "# Cumulative Startegy Returns"
   ]
  },
  {
   "cell_type": "code",
   "execution_count": 51,
   "metadata": {},
   "outputs": [
    {
     "name": "stdout",
     "output_type": "stream",
     "text": [
      "HEAD OF STRATEGY RETURNS \n",
      " date\n",
      "1986-04-08         NaN\n",
      "1986-04-09    0.018266\n",
      "1986-04-10   -0.004597\n",
      "1986-04-11    0.009216\n",
      "1986-04-14    0.004640\n",
      "Name: Strategy_Returns, dtype: float64 \n",
      "\n",
      "\n",
      "\n",
      " TAIL OF STRATEGY RETURNS \n",
      " date\n",
      "2018-03-07   -0.009326\n",
      "2018-03-08    0.010853\n",
      "2018-03-09   -0.017035\n",
      "2018-03-12   -0.009621\n",
      "2018-03-13   -0.009677\n",
      "Name: Strategy_Returns, dtype: float64 \n",
      "\n",
      "\n",
      "\n",
      " TAIL OF CUMULATIVE STRATEGY RETURNS \n",
      " date\n",
      "2011-10-18    0.534295\n",
      "2011-10-19   -5.222237\n",
      "2011-10-20   -6.056065\n",
      "2011-10-21   -6.675214\n",
      "2011-10-24   -3.444441\n",
      "Name: Strategy_Returns, dtype: float64 \n",
      "\n",
      "\n",
      "\n",
      " HEAD OF CUMULATIVE STRATEGY RETURNS \n",
      " date\n",
      "2018-03-07    58.724599\n",
      "2018-03-08    59.809932\n",
      "2018-03-09    58.106431\n",
      "2018-03-12    57.144297\n",
      "2018-03-13    56.176610\n",
      "Name: Strategy_Returns, dtype: float64\n"
     ]
    }
   ],
   "source": [
    "df['Strategy_Returns'] = df['Returns'] * df['Predicted_Signal'].shift(1)\n",
    "\n",
    "Cum_Strategy_Returns = df[split:]['Strategy_Returns'].cumsum()*100\n",
    "\n",
    "print('HEAD OF STRATEGY RETURNS','\\n',df['Strategy_Returns'].head(),'\\n\\n\\n\\n','TAIL OF STRATEGY RETURNS','\\n',df['Strategy_Returns'].tail(),'\\n\\n\\n\\n','TAIL OF CUMULATIVE STRATEGY RETURNS','\\n',Cum_Strategy_Returns.head(),'\\n\\n\\n\\n','HEAD OF CUMULATIVE STRATEGY RETURNS','\\n',Cum_Strategy_Returns.tail())"
   ]
  },
  {
   "cell_type": "markdown",
   "metadata": {},
   "source": [
    "# Plot the results to visualize the performance"
   ]
  },
  {
   "cell_type": "code",
   "execution_count": 52,
   "metadata": {},
   "outputs": [
    {
     "data": {
      "image/png": "[encoded data removed]",
      "text/plain": [
       "<Figure size 1440x504 with 1 Axes>"
      ]
     },
     "metadata": {},
     "output_type": "display_data"
    }
   ],
   "source": [
    "plt.figure(figsize=(20, 7))\n",
    "\n",
    "plt.plot(Cumulative_Returns, color='r', label='Returns')\n",
    "\n",
    "plt.plot(Cum_Strategy_Returns, color='g', label='Strategy Returns')\n",
    "\n",
    "plt.legend()\n",
    "\n",
    "plt.show()"
   ]
  },
  {
   "cell_type": "markdown",
   "metadata": {},
   "source": [
    "# calculate sharpe ratio\n"
   ]
  },
  {
   "cell_type": "markdown",
   "metadata": {},
   "source": [
    "\n",
    "### The Sharpe ratio is the return earned in excess of the market return per unit of volatility.First, we will calculate the standard deviation of the cumulative returns,and use it further to calculate the Sharpe ratio"
   ]
  },
  {
   "cell_type": "code",
   "execution_count": 53,
   "metadata": {},
   "outputs": [
    {
     "name": "stdout",
     "output_type": "stream",
     "text": [
      "sharpe ratio: -1.80\n",
      "                open      high       low     close  adj_close      volume  \\\n",
      "date                                                                        \n",
      "1986-04-08  0.486607  0.495536  0.486607  0.493304   0.022443  48305600.0   \n",
      "1986-04-09  0.493304  0.495536  0.479911  0.484375   0.022037  33829600.0   \n",
      "1986-04-10  0.484375  0.488839  0.479911  0.486607   0.022139  27496000.0   \n",
      "1986-04-11  0.486607  0.491071  0.482143  0.482143   0.021936  18916800.0   \n",
      "1986-04-14  0.482143  0.486607  0.477679  0.479911   0.021834  21240800.0   \n",
      "\n",
      "            name  open-close  high-low      S_10      Corr        RSI  \\\n",
      "date                                                                    \n",
      "1986-04-08  AAPL         0.0  0.008929  0.492411 -0.582903  63.486852   \n",
      "1986-04-09  AAPL         0.0  0.015625  0.491071 -0.704894  57.170527   \n",
      "1986-04-10  AAPL         0.0  0.008928  0.489286 -0.600774  58.322214   \n",
      "1986-04-11  AAPL         0.0  0.008928  0.487054 -0.028360  55.033643   \n",
      "1986-04-14  AAPL         0.0  0.008928  0.484598  0.381245  53.362040   \n",
      "\n",
      "            open-open  Predicted_Signal   Returns  Strategy_Returns  \n",
      "date                                                                 \n",
      "1986-04-08   0.008928                -1       NaN               NaN  \n",
      "1986-04-09   0.006697                -1 -0.018266          0.018266  \n",
      "1986-04-10  -0.008929                -1  0.004597         -0.004597  \n",
      "1986-04-11   0.002232                -1 -0.009216          0.009216  \n",
      "1986-04-14  -0.004464                -1 -0.004640          0.004640  \n"
     ]
    }
   ],
   "source": [
    "std = Cum_Strategy_Returns.std()\n",
    "\n",
    "sharpe = (Cum_Strategy_Returns-Cumulative_Returns)/std\n",
    "\n",
    "sharpe = sharpe.mean()\n",
    "\n",
    "print('sharpe ratio: %.2f' % sharpe)\n",
    "\n",
    "print(df.head())"
   ]
  }
 ],
 "metadata": {
  "kernelspec": {
   "display_name": "Python 3",
   "language": "python",
   "name": "python3"
  },
  "language_info": {
   "codemirror_mode": {
    "name": "ipython",
    "version": 3
   },
   "file_extension": ".py",
   "mimetype": "text/x-python",
   "name": "python",
   "nbconvert_exporter": "python",
   "pygments_lexer": "ipython3",
   "version": "3.6.4"
  }
 },
 "nbformat": 4,
 "nbformat_minor": 2
}
