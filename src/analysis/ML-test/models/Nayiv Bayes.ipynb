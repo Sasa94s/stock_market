{
 "cells": [
  {
   "cell_type": "markdown",
   "metadata": {},
   "source": [
    "## Import Section"
   ]
  },
  {
   "cell_type": "code",
   "execution_count": 15,
   "metadata": {},
   "outputs": [],
   "source": [
    "import numpy as np\n",
    "import pandas as pd\n",
    "import psycopg2\n",
    "import matplotlib.pyplot as plt\n",
    "import pandas as pd\n",
    "import numpy as np\n",
    "import datetime\n",
    "from sklearn.naive_bayes import GaussianNB\n",
    "from sklearn.cross_validation import train_test_split\n",
    "from sklearn.grid_search import GridSearchCV, RandomizedSearchCV\n",
    "from sklearn import preprocessing\n",
    "from sklearn import utils\n",
    "from sklearn.metrics import scorer\n",
    "from sklearn.metrics import accuracy_score"
   ]
  },
  {
   "cell_type": "markdown",
   "metadata": {},
   "source": [
    "### Database connection"
   ]
  },
  {
   "cell_type": "code",
   "execution_count": 16,
   "metadata": {},
   "outputs": [],
   "source": [
    "conn_string = \"host='localhost' dbname='stockmarket' user='postgres' password='5265104d'\"\n",
    "conn = psycopg2.connect(conn_string)"
   ]
  },
  {
   "cell_type": "markdown",
   "metadata": {},
   "source": [
    "## Read dataset"
   ]
  },
  {
   "cell_type": "code",
   "execution_count": 17,
   "metadata": {},
   "outputs": [],
   "source": [
    "df = pd.read_sql_query(\n",
    "    '''select i.date ,i.open ,i.high ,i.low ,i.close ,i.adj_close ,i.volume ,c.name\n",
    "    from dataset_information i \n",
    "    join dataset_company c\n",
    "    on i.company_id=c.id\n",
    "    where company_id = {}'''.format(3)  , conn, index_col='date')"
   ]
  },
  {
   "cell_type": "markdown",
   "metadata": {},
   "source": [
    "## Calculate bolingerband "
   ]
  },
  {
   "cell_type": "code",
   "execution_count": 18,
   "metadata": {},
   "outputs": [],
   "source": [
    "df[\"20d\"] = np.round(df[\"close\"].rolling(window = 20, center = False).mean(), 2)\n",
    "# 2. Compute rolling standard deviation\n",
    "apple_rstd = np.round(df['close'].rolling(window = 20, center = False).std(), 2)\n",
    "\n",
    "# 3. Compute upper and lower bands\n",
    "df['upperband'] = df['20d'] + 2 * apple_rstd\n",
    "df['lowerband'] = df['20d'] - 2 * apple_rstd"
   ]
  },
  {
   "cell_type": "markdown",
   "metadata": {},
   "source": [
    "## prepairing dataframe with label"
   ]
  },
  {
   "cell_type": "code",
   "execution_count": 19,
   "metadata": {},
   "outputs": [
    {
     "name": "stdout",
     "output_type": "stream",
     "text": [
      "                  open        high         low       close   adj_close  \\\n",
      "date                                                                     \n",
      "2018-03-07  174.940002  175.850006  174.270004  175.029999  175.029999   \n",
      "2018-03-08  175.479996  177.119995  175.070007  176.940002  176.940002   \n",
      "2018-03-09  177.960007  180.000000  177.389999  179.979996  179.979996   \n",
      "2018-03-12  180.289993  182.389999  180.210007  181.720001  181.720001   \n",
      "2018-03-13  182.589996  183.500000  179.240005  179.970001  179.970001   \n",
      "\n",
      "                volume  name     20d  upperband  lowerband  high-upperband  \\\n",
      "date                                                                         \n",
      "2018-03-07  31703500.0  AAPL  170.85     185.69     156.01       -9.839994   \n",
      "2018-03-08  23774100.0  AAPL  171.72     185.78     157.66       -8.660005   \n",
      "2018-03-09  32185200.0  AAPL  172.97     185.13     160.81       -5.130000   \n",
      "2018-03-12  32207100.0  AAPL  174.23     184.19     164.27       -1.800001   \n",
      "2018-03-13  31244000.0  AAPL  175.09     183.77     166.41       -0.270000   \n",
      "\n",
      "            low-lowerband    decision  \n",
      "date                                   \n",
      "2018-03-07      18.260004  Buy & Sell  \n",
      "2018-03-08      17.410007  Buy & Sell  \n",
      "2018-03-09      16.579999  Buy & Sell  \n",
      "2018-03-12      15.940007  Buy & Sell  \n",
      "2018-03-13      12.830005  Buy & Sell  \n"
     ]
    }
   ],
   "source": [
    "#feature_cols = ['high-upperband', 'low-lowerband','dicesion']\n",
    "\n",
    "df['high-upperband'] = df['high']-df['upperband']\n",
    "df['low-lowerband'] =df['low']-df['lowerband']\n",
    "df['decision'] = np.where(df['high-upperband'] > 0.0 , 'Sell',np.where( df['low-lowerband'] < 0.0,'Buy','Buy & Sell'))\n",
    "df = df.dropna()\n",
    "print(df.tail())"
   ]
  },
  {
   "cell_type": "markdown",
   "metadata": {},
   "source": [
    "## Prepairing Feature columns and label columns"
   ]
  },
  {
   "cell_type": "code",
   "execution_count": 20,
   "metadata": {},
   "outputs": [],
   "source": [
    "feature_cols = ['close','20d','upperband','lowerband']\n",
    "label_cols = ['decision']\n",
    "x = df[feature_cols]\n",
    "y = df[label_cols]\n",
    "npY = np.array(y)"
   ]
  },
  {
   "cell_type": "code",
   "execution_count": 21,
   "metadata": {},
   "outputs": [],
   "source": [
    "def extractBolingerFeatures(df):\n",
    "    feature_cols = ['adj_close','20d','upperband','lowerband']\n",
    "    label_cols = ['decision']\n",
    "    x = df[feature_cols]\n",
    "    y = df[label_cols]\n",
    "    npY = np.array(y)\n",
    "    return (x,y,npY)"
   ]
  },
  {
   "cell_type": "markdown",
   "metadata": {},
   "source": [
    "## Split dataset into test and train parts"
   ]
  },
  {
   "cell_type": "code",
   "execution_count": 22,
   "metadata": {},
   "outputs": [],
   "source": [
    "X_train, X_test, y_train, y_test = train_test_split(x,y, test_size=0.2, random_state=1)"
   ]
  },
  {
   "cell_type": "markdown",
   "metadata": {},
   "source": [
    "## prepairing Nayiv Bayes model"
   ]
  },
  {
   "cell_type": "code",
   "execution_count": 23,
   "metadata": {},
   "outputs": [],
   "source": [
    "gnb = GaussianNB()"
   ]
  },
  {
   "cell_type": "code",
   "execution_count": 24,
   "metadata": {},
   "outputs": [],
   "source": [
    "def ApplyGuassianNbModel(fetures,label,predictList):\n",
    "    gnb = GaussianNB()\n",
    "    gnb.fit(fetures,label)\n",
    "    y_predict = str(gnb.predict(predictList))\n",
    "    return y_predict"
   ]
  },
  {
   "cell_type": "markdown",
   "metadata": {},
   "source": [
    "### test ApplyGuassianNbModel"
   ]
  },
  {
   "cell_type": "code",
   "execution_count": 25,
   "metadata": {},
   "outputs": [
    {
     "name": "stdout",
     "output_type": "stream",
     "text": [
      "['Buy & Sell']\n"
     ]
    },
    {
     "name": "stderr",
     "output_type": "stream",
     "text": [
      "C:\\Users\\moham\\Anaconda3\\lib\\site-packages\\sklearn\\utils\\validation.py:578: DataConversionWarning: A column-vector y was passed when a 1d array was expected. Please change the shape of y to (n_samples, ), for example using ravel().\n",
      "  y = column_or_1d(y, warn=True)\n"
     ]
    }
   ],
   "source": [
    "adj_close = 175.029999\n",
    "midband = 170.85\n",
    "upperband = 185.69\n",
    "lowerband = 156.01\n",
    "predictCol = [[175.02999,170.85,185.69,156.01]]\n",
    "result = ApplyKnnModel(x,y,predictCol)\n",
    "print(result)"
   ]
  },
  {
   "cell_type": "markdown",
   "metadata": {},
   "source": [
    "### test ApplyGuassianNbModel"
   ]
  },
  {
   "cell_type": "code",
   "execution_count": 26,
   "metadata": {},
   "outputs": [
    {
     "name": "stdout",
     "output_type": "stream",
     "text": [
      "['Buy & Sell']\n"
     ]
    },
    {
     "name": "stderr",
     "output_type": "stream",
     "text": [
      "C:\\Users\\moham\\Anaconda3\\lib\\site-packages\\sklearn\\utils\\validation.py:578: DataConversionWarning: A column-vector y was passed when a 1d array was expected. Please change the shape of y to (n_samples, ), for example using ravel().\n",
      "  y = column_or_1d(y, warn=True)\n"
     ]
    }
   ],
   "source": [
    "adj_close = 175.029999\n",
    "midband = 170.85\n",
    "upperband = 185.69\n",
    "lowerband = 156.01\n",
    "predictCol = [[175.02999,170.85,185.69,156.01]]\n",
    "result = ApplyGuassianNbModel(x,y,predictCol)\n",
    "print(result)"
   ]
  },
  {
   "cell_type": "markdown",
   "metadata": {},
   "source": [
    "## basic Guasian Nayiv test"
   ]
  },
  {
   "cell_type": "code",
   "execution_count": 27,
   "metadata": {},
   "outputs": [
    {
     "name": "stdout",
     "output_type": "stream",
     "text": [
      "78.50931677018633\n"
     ]
    },
    {
     "name": "stderr",
     "output_type": "stream",
     "text": [
      "C:\\Users\\moham\\Anaconda3\\lib\\site-packages\\sklearn\\utils\\validation.py:578: DataConversionWarning: A column-vector y was passed when a 1d array was expected. Please change the shape of y to (n_samples, ), for example using ravel().\n",
      "  y = column_or_1d(y, warn=True)\n"
     ]
    }
   ],
   "source": [
    "gnb.fit(X_train,y_train)\n",
    "y_predict = gnb.predict(X_test)\n",
    "print(float(accuracy_score(y_test, y_predict)) *100)"
   ]
  }
 ],
 "metadata": {
  "kernelspec": {
   "display_name": "Python 3",
   "language": "python",
   "name": "python3"
  },
  "language_info": {
   "codemirror_mode": {
    "name": "ipython",
    "version": 3
   },
   "file_extension": ".py",
   "mimetype": "text/x-python",
   "name": "python",
   "nbconvert_exporter": "python",
   "pygments_lexer": "ipython3",
   "version": "3.6.3"
  }
 },
 "nbformat": 4,
 "nbformat_minor": 2
}
