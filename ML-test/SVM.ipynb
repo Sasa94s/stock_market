{
 "cells": [
  {
   "cell_type": "markdown",
   "metadata": {},
   "source": [
    "# machine learning classification"
   ]
  },
  {
   "cell_type": "code",
   "execution_count": 1,
   "metadata": {},
   "outputs": [
    {
     "name": "stderr",
     "output_type": "stream",
     "text": [
      "C:\\Anaconda3\\lib\\site-packages\\sklearn\\cross_validation.py:41: DeprecationWarning: This module was deprecated in version 0.18 in favor of the model_selection module into which all the refactored classes and functions are moved. Also note that the interface of the new CV iterators are different from that of this module. This module will be removed in 0.20.\n",
      "  \"This module will be removed in 0.20.\", DeprecationWarning)\n"
     ]
    }
   ],
   "source": [
    "from sklearn import preprocessing\n",
    "\n",
    "from sklearn import utils\n",
    "\n",
    "from sklearn.metrics import scorer\n",
    "\n",
    "from sklearn.metrics import accuracy_score\n",
    "\n",
    "from sklearn.svm import SVC\n",
    "\n",
    "from sklearn.cross_validation import train_test_split\n",
    "\n",
    "from sklearn.model_selection import cross_val_score\n",
    "\n",
    "from sklearn.pipeline import Pipeline\n",
    "\n",
    "#from sklearn.grid_search import GridSearchCV, RandomizedSearchCV"
   ]
  },
  {
   "cell_type": "markdown",
   "metadata": {},
   "source": [
    "# For data manipulation"
   ]
  },
  {
   "cell_type": "code",
   "execution_count": 2,
   "metadata": {},
   "outputs": [],
   "source": [
    "import pandas as pd\n",
    "\n",
    "import numpy as np\n"
   ]
  },
  {
   "cell_type": "markdown",
   "metadata": {},
   "source": [
    "# To plot"
   ]
  },
  {
   "cell_type": "code",
   "execution_count": 3,
   "metadata": {},
   "outputs": [],
   "source": [
    "import matplotlib.pyplot as plt\n",
    "\n",
    "import seaborn"
   ]
  },
  {
   "cell_type": "markdown",
   "metadata": {},
   "source": [
    "# sql import"
   ]
  },
  {
   "cell_type": "code",
   "execution_count": 4,
   "metadata": {},
   "outputs": [],
   "source": [
    "import psycopg2\n",
    "import datetime\n"
   ]
  },
  {
   "cell_type": "markdown",
   "metadata": {},
   "source": [
    "# Load dataset Read sqlite query results into a pandas DataFrame"
   ]
  },
  {
   "cell_type": "code",
   "execution_count": 5,
   "metadata": {},
   "outputs": [],
   "source": [
    "### Database connection\n",
    "\n",
    "conn_string = \"host='localhost' dbname='stockmarket' user='postgres' password='123456'\"\n",
    "conn = psycopg2.connect(conn_string)\n",
    "\n",
    "## Read dataset\n",
    "\n",
    "df = pd.read_sql_query(\n",
    "    '''select i.date ,i.open ,i.high ,i.low ,i.close ,i.adj_close ,i.volume ,c.name\n",
    "    from information i \n",
    "    join company c\n",
    "    on i.company_id=c.id\n",
    "    where company_id = {}'''.format(3)  , conn, index_col='date')\n",
    "df.index = pd.to_datetime(df.index)\n"
   ]
  },
  {
   "cell_type": "markdown",
   "metadata": {},
   "source": [
    "# Verify that result of SQL query is stored in the dataframe\n"
   ]
  },
  {
   "cell_type": "code",
   "execution_count": 6,
   "metadata": {},
   "outputs": [
    {
     "name": "stdout",
     "output_type": "stream",
     "text": [
      "                open      high       low     close  adj_close      volume  \\\n",
      "date                                                                        \n",
      "1986-03-12  0.444196  0.448661  0.441964  0.441964   0.020108  21420000.0   \n",
      "1986-03-13  0.441964  0.446429  0.435268  0.441964   0.020108  28991200.0   \n",
      "1986-03-14  0.441964  0.468750  0.441964  0.466518   0.021225  96213600.0   \n",
      "1986-03-17  0.464286  0.464286  0.453125  0.464286   0.021123  29680000.0   \n",
      "1986-03-18  0.464286  0.486607  0.462054  0.479911   0.021834  62339200.0   \n",
      "\n",
      "            name  \n",
      "date              \n",
      "1986-03-12  AAPL  \n",
      "1986-03-13  AAPL  \n",
      "1986-03-14  AAPL  \n",
      "1986-03-17  AAPL  \n",
      "1986-03-18  AAPL  \n"
     ]
    }
   ],
   "source": [
    "print(df.head())"
   ]
  },
  {
   "cell_type": "markdown",
   "metadata": {},
   "source": [
    "## adding  features"
   ]
  },
  {
   "cell_type": "code",
   "execution_count": 7,
   "metadata": {},
   "outputs": [],
   "source": [
    "conn.close()\n",
    "\n",
    "df= df.dropna()\n",
    "\n",
    "df['open-close'] = df.open - df.close\n",
    "\n",
    "df['high-low'] = df.high - df.low"
   ]
  },
  {
   "cell_type": "markdown",
   "metadata": {},
   "source": [
    "# Organize our data select the target"
   ]
  },
  {
   "cell_type": "code",
   "execution_count": 8,
   "metadata": {},
   "outputs": [
    {
     "name": "stdout",
     "output_type": "stream",
     "text": [
      "            open-close  high-low\n",
      "date                            \n",
      "1986-03-12    0.002232  0.006697\n",
      "1986-03-13    0.000000  0.011161\n",
      "1986-03-14   -0.024554  0.026786\n",
      "1986-03-17    0.000000  0.011161\n",
      "1986-03-18   -0.015625  0.024553 \n",
      " [ 1 -1  1 -1]\n"
     ]
    }
   ],
   "source": [
    "feature_cols = ['open-close', 'high-low']\n",
    "\n",
    "x = df[feature_cols]\n",
    "\n",
    "y = np.where(df['close'].shift(-1) > df['close'], 1, -1)\n",
    "\n",
    "print(x.head(),'\\n',y[1:5])"
   ]
  },
  {
   "cell_type": "markdown",
   "metadata": {},
   "source": [
    "### Test and train dataset splitIn this step, we will split data into the train dataset and the test dataset :\n",
    "#### 1-First, 80% of data is used for training and remaining data for testing\n",
    "#### 2-X_train and y_train are train dataset\n",
    "#### 3-X_test and y_test are test dataset\n"
   ]
  },
  {
   "cell_type": "code",
   "execution_count": 9,
   "metadata": {},
   "outputs": [],
   "source": [
    "split_percentage = 0.8\n",
    "\n",
    "split = int(split_percentage*len(df))\n",
    "# Train data set\n",
    "\n",
    "x_train = x[:split]\n",
    "\n",
    "y_train = y[:split]\n",
    "# Test data set\n",
    "\n",
    "x_test = x[split:]\n",
    "\n",
    "y_test = y[split:]"
   ]
  },
  {
   "cell_type": "markdown",
   "metadata": {},
   "source": [
    "# Create the machine learning classification model using the train dataset We will create the machine learning classification model based on the train dataset.This model will be later used to predict the trading signal in the test dataset.\n"
   ]
  },
  {
   "cell_type": "code",
   "execution_count": 10,
   "metadata": {},
   "outputs": [],
   "source": [
    "cls = SVC().fit(x_train, y_train)\n"
   ]
  },
  {
   "cell_type": "markdown",
   "metadata": {},
   "source": [
    "# The classification model accuracyWe will compute the accuracy of the classification model on the train and test dataset, by comparing the actual values of the trading signal with the predicted values of the trading signal.The function accuracy_score() will be used to calculate the accuracy.Syntax: accuracy_score(target_actual_value,target_predicted_value)\n",
    "\n",
    "#### 1-target_actual_value: correct signal values\n",
    "\n",
    "#### 2-target_predicted_value: predicted signal values"
   ]
  },
  {
   "cell_type": "code",
   "execution_count": 11,
   "metadata": {},
   "outputs": [
    {
     "name": "stdout",
     "output_type": "stream",
     "text": [
      "\n",
      "Train Accuracy: 52.29%\n",
      "Test Accuracy: 51.05%\n"
     ]
    }
   ],
   "source": [
    "accuracy_train = accuracy_score(y_train, cls.predict(x_train))\n",
    "\n",
    "accuracy_test = accuracy_score(y_test, cls.predict(x_test))\n",
    "\n",
    "print('\\nTrain Accuracy:{: .2f}%'.format(accuracy_train*100))\n",
    "\n",
    "print('Test Accuracy:{: .2f}%'.format(accuracy_test*100))"
   ]
  },
  {
   "cell_type": "markdown",
   "metadata": {},
   "source": [
    "###  will predict the signal (buy or sell) for the test data set, using the cls.predict() function. Then, we will compute the strategy returns based on the signal predicted by the model in the test dataset. We save it in the column ‘Strategy_Return’ and then,plot the cumulative strategy returns."
   ]
  },
  {
   "cell_type": "code",
   "execution_count": 12,
   "metadata": {
    "scrolled": true
   },
   "outputs": [
    {
     "name": "stdout",
     "output_type": "stream",
     "text": [
      "date\n",
      "1986-03-12   -1\n",
      "1986-03-13   -1\n",
      "1986-03-14   -1\n",
      "1986-03-17   -1\n",
      "1986-03-18   -1\n",
      "Name: Predicted_Signal, dtype: int32\n"
     ]
    }
   ],
   "source": [
    "df['Predicted_Signal'] = cls.predict(x)\n",
    "\n",
    "print(df['Predicted_Signal'].head())"
   ]
  },
  {
   "cell_type": "markdown",
   "metadata": {},
   "source": [
    "# Calculate log returns"
   ]
  },
  {
   "cell_type": "code",
   "execution_count": 14,
   "metadata": {
    "scrolled": true
   },
   "outputs": [
    {
     "data": {
      "image/png": "[encoded data removed]",
      "text/plain": [
       "<Figure size 1440x504 with 1 Axes>"
      ]
     },
     "metadata": {},
     "output_type": "display_data"
    }
   ],
   "source": [
    "df['Return'] = np.log(df.close.shift(-1) / df.close)*100\n",
    "\n",
    "df['Strategy_Return'] = df.Return * df.Predicted_Signal\n",
    "\n",
    "df.Strategy_Return.iloc[split:].cumsum().plot(figsize=(20,7))\n",
    "\n",
    "plt.xlabel(\"Date\")\n",
    "\n",
    "plt.ylabel(\"Strategy Returns (%)\")\n",
    "\n",
    "plt.show()"
   ]
  }
 ],
 "metadata": {
  "kernelspec": {
   "display_name": "Python 3",
   "language": "python",
   "name": "python3"
  },
  "language_info": {
   "codemirror_mode": {
    "name": "ipython",
    "version": 3
   },
   "file_extension": ".py",
   "mimetype": "text/x-python",
   "name": "python",
   "nbconvert_exporter": "python",
   "pygments_lexer": "ipython3",
   "version": "3.6.4"
  }
 },
 "nbformat": 4,
 "nbformat_minor": 2
}
