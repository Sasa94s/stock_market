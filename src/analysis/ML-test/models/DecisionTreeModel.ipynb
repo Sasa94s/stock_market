{
 "cells": [
  {
   "cell_type": "markdown",
   "metadata": {},
   "source": [
    "#### Import Section"
   ]
  },
  {
   "cell_type": "code",
   "execution_count": 1,
   "metadata": {},
   "outputs": [
    {
     "name": "stderr",
     "output_type": "stream",
     "text": [
      "C:\\Users\\moham\\Anaconda3\\lib\\site-packages\\sklearn\\cross_validation.py:41: DeprecationWarning: This module was deprecated in version 0.18 in favor of the model_selection module into which all the refactored classes and functions are moved. Also note that the interface of the new CV iterators are different from that of this module. This module will be removed in 0.20.\n",
      "  \"This module will be removed in 0.20.\", DeprecationWarning)\n",
      "C:\\Users\\moham\\Anaconda3\\lib\\site-packages\\sklearn\\grid_search.py:42: DeprecationWarning: This module was deprecated in version 0.18 in favor of the model_selection module into which all the refactored classes and functions are moved. This module will be removed in 0.20.\n",
      "  DeprecationWarning)\n"
     ]
    }
   ],
   "source": [
    "import numpy as np\n",
    "import pandas as pd\n",
    "import psycopg2\n",
    "import matplotlib.pyplot as plt\n",
    "import datetime\n",
    "from sklearn.tree import DecisionTreeClassifier\n",
    "from sklearn.cross_validation import train_test_split\n",
    "from sklearn.grid_search import GridSearchCV, RandomizedSearchCV\n",
    "from sklearn import preprocessing\n",
    "from sklearn import utils\n",
    "from sklearn.metrics import scorer\n",
    "from sklearn.metrics import accuracy_score"
   ]
  },
  {
   "cell_type": "markdown",
   "metadata": {},
   "source": [
    "### Database connection"
   ]
  },
  {
   "cell_type": "code",
   "execution_count": 2,
   "metadata": {},
   "outputs": [],
   "source": [
    "conn_string = \"host='localhost' dbname='stockmarket' user='postgres' password='5265104d'\"\n",
    "conn = psycopg2.connect(conn_string)"
   ]
  },
  {
   "cell_type": "markdown",
   "metadata": {},
   "source": [
    "## Read dataset"
   ]
  },
  {
   "cell_type": "code",
   "execution_count": 3,
   "metadata": {},
   "outputs": [],
   "source": [
    "df = pd.read_sql_query(\n",
    "    '''select i.date ,i.open ,i.high ,i.low ,i.close ,i.adj_close ,i.volume ,c.name\n",
    "    from dataset_information i \n",
    "    join dataset_company c\n",
    "    on i.company_id=c.id\n",
    "    where company_id = {}'''.format(3)  , conn, index_col='date')"
   ]
  },
  {
   "cell_type": "code",
   "execution_count": 4,
   "metadata": {
    "scrolled": true
   },
   "outputs": [
    {
     "name": "stdout",
     "output_type": "stream",
     "text": [
      "                open      high       low     close  adj_close      volume  \\\n",
      "date                                                                        \n",
      "1986-03-12  0.444196  0.448661  0.441964  0.441964   0.020108  21420000.0   \n",
      "1986-03-13  0.441964  0.446429  0.435268  0.441964   0.020108  28991200.0   \n",
      "1986-03-14  0.441964  0.468750  0.441964  0.466518   0.021225  96213600.0   \n",
      "1986-03-17  0.464286  0.464286  0.453125  0.464286   0.021123  29680000.0   \n",
      "1986-03-18  0.464286  0.486607  0.462054  0.479911   0.021834  62339200.0   \n",
      "\n",
      "            name  \n",
      "date              \n",
      "1986-03-12  AAPL  \n",
      "1986-03-13  AAPL  \n",
      "1986-03-14  AAPL  \n",
      "1986-03-17  AAPL  \n",
      "1986-03-18  AAPL  \n"
     ]
    }
   ],
   "source": [
    "print(df.head())"
   ]
  },
  {
   "cell_type": "markdown",
   "metadata": {},
   "source": [
    "## Calculate bolingerband "
   ]
  },
  {
   "cell_type": "code",
   "execution_count": 5,
   "metadata": {},
   "outputs": [],
   "source": [
    "df[\"20d\"] = np.round(df[\"close\"].rolling(window = 20, center = False).mean(), 2)\n",
    "# 2. Compute rolling standard deviation\n",
    "apple_rstd = np.round(df['close'].rolling(window = 20, center = False).std(), 2)\n",
    "\n",
    "# 3. Compute upper and lower bands\n",
    "df['upperband'] = df['20d'] + 2 * apple_rstd\n",
    "df['lowerband'] = df['20d'] - 2 * apple_rstd"
   ]
  },
  {
   "cell_type": "markdown",
   "metadata": {},
   "source": [
    "## prepairing dataframe with label"
   ]
  },
  {
   "cell_type": "code",
   "execution_count": 6,
   "metadata": {
    "scrolled": false
   },
   "outputs": [
    {
     "name": "stdout",
     "output_type": "stream",
     "text": [
      "                  open        high         low       close   adj_close  \\\n",
      "date                                                                     \n",
      "2018-03-07  174.940002  175.850006  174.270004  175.029999  175.029999   \n",
      "2018-03-08  175.479996  177.119995  175.070007  176.940002  176.940002   \n",
      "2018-03-09  177.960007  180.000000  177.389999  179.979996  179.979996   \n",
      "2018-03-12  180.289993  182.389999  180.210007  181.720001  181.720001   \n",
      "2018-03-13  182.589996  183.500000  179.240005  179.970001  179.970001   \n",
      "\n",
      "                volume  name     20d  upperband  lowerband  high-upperband  \\\n",
      "date                                                                         \n",
      "2018-03-07  31703500.0  AAPL  170.85     185.69     156.01       -9.839994   \n",
      "2018-03-08  23774100.0  AAPL  171.72     185.78     157.66       -8.660005   \n",
      "2018-03-09  32185200.0  AAPL  172.97     185.13     160.81       -5.130000   \n",
      "2018-03-12  32207100.0  AAPL  174.23     184.19     164.27       -1.800001   \n",
      "2018-03-13  31244000.0  AAPL  175.09     183.77     166.41       -0.270000   \n",
      "\n",
      "            low-lowerband    decision  \n",
      "date                                   \n",
      "2018-03-07      18.260004  Buy & Sell  \n",
      "2018-03-08      17.410007  Buy & Sell  \n",
      "2018-03-09      16.579999  Buy & Sell  \n",
      "2018-03-12      15.940007  Buy & Sell  \n",
      "2018-03-13      12.830005  Buy & Sell  \n"
     ]
    }
   ],
   "source": [
    "#feature_cols = ['high-upperband', 'low-lowerband','dicesion']\n",
    "\n",
    "df['high-upperband'] = df['high']-df['upperband']\n",
    "df['low-lowerband'] =df['low']-df['lowerband']\n",
    "df['decision'] = np.where(df['high-upperband'] > 0.0 , 'Sell',np.where( df['low-lowerband'] < 0.0,'Buy','Buy & Sell'))\n",
    "df = df.dropna()\n",
    "print(df.tail())"
   ]
  },
  {
   "cell_type": "markdown",
   "metadata": {},
   "source": [
    "## Prepairing Feature columns and label columns"
   ]
  },
  {
   "cell_type": "code",
   "execution_count": 7,
   "metadata": {},
   "outputs": [],
   "source": [
    "def extractBolingerFeatures(df):\n",
    "    feature_cols = ['adj_close','20d','upperband','lowerband']\n",
    "    label_cols = ['decision']\n",
    "    x = df[feature_cols]\n",
    "    y = df[label_cols]\n",
    "    npY = np.array(y)\n",
    "    return (x,y,npY)"
   ]
  },
  {
   "cell_type": "markdown",
   "metadata": {},
   "source": [
    "### test extractBolingerFeatures method"
   ]
  },
  {
   "cell_type": "code",
   "execution_count": 8,
   "metadata": {},
   "outputs": [
    {
     "name": "stdout",
     "output_type": "stream",
     "text": [
      "             adj_close     20d  upperband  lowerband\n",
      "date                                                \n",
      "1986-04-09    0.022037    0.48       0.52       0.44\n",
      "1986-04-10    0.022139    0.48       0.52       0.44\n",
      "1986-04-11    0.021936    0.49       0.51       0.47\n",
      "1986-04-14    0.021834    0.49       0.51       0.47\n",
      "1986-04-15    0.022240    0.49       0.51       0.47\n",
      "1986-04-16    0.022951    0.49       0.51       0.47\n",
      "1986-04-17    0.023560    0.49       0.51       0.47\n",
      "1986-04-18    0.024170    0.49       0.51       0.47\n",
      "1986-04-21    0.024678    0.50       0.54       0.46\n",
      "1986-04-22    0.024271    0.50       0.54       0.46\n",
      "1986-04-23    0.024068    0.50       0.54       0.46\n",
      "1986-04-24    0.025490    0.50       0.54       0.46\n",
      "1986-04-25    0.026201    0.51       0.57       0.45\n",
      "1986-04-28    0.025998    0.51       0.57       0.45\n",
      "1986-04-29    0.025388    0.51       0.57       0.45\n",
      "1986-04-30    0.024576    0.52       0.58       0.46\n",
      "1986-05-01    0.024576    0.52       0.58       0.46\n",
      "1986-05-02    0.024779    0.52       0.58       0.46\n",
      "1986-05-05    0.026099    0.53       0.59       0.47\n",
      "1986-05-06    0.026506    0.53       0.59       0.47\n",
      "1986-05-07    0.025592    0.54       0.60       0.48\n",
      "1986-05-08    0.026810    0.54       0.60       0.48\n",
      "1986-05-09    0.027115    0.55       0.61       0.49\n",
      "1986-05-12    0.029552    0.55       0.63       0.47\n",
      "1986-05-13    0.029248    0.56       0.64       0.48\n",
      "1986-05-14    0.029958    0.57       0.65       0.49\n",
      "1986-05-15    0.029248    0.58       0.66       0.50\n",
      "1986-05-16    0.029248    0.58       0.66       0.50\n",
      "1986-05-19    0.028943    0.59       0.67       0.51\n",
      "1986-05-20    0.028740    0.59       0.67       0.51\n",
      "...                ...     ...        ...        ...\n",
      "2018-01-30  166.292007  174.33     181.05     167.61\n",
      "2018-01-31  166.750137  174.09     181.45     166.73\n",
      "2018-02-01  167.098724  173.87     181.71     166.03\n",
      "2018-02-02  159.848282  173.24     183.10     163.38\n",
      "2018-02-05  155.854568  172.32     184.66     159.98\n",
      "2018-02-06  162.368011  171.75     184.71     158.79\n",
      "2018-02-07  158.892166  171.01     185.01     157.01\n",
      "2018-02-08  154.520004  170.06     185.64     154.48\n",
      "2018-02-09  156.410004  169.11     185.61     152.61\n",
      "2018-02-12  162.710007  168.39     184.69     152.09\n",
      "2018-02-13  164.339996  167.80     183.76     151.84\n",
      "2018-02-14  167.369995  167.21     182.25     152.17\n",
      "2018-02-15  172.990005  166.90     181.12     152.68\n",
      "2018-02-16  172.429993  166.60     180.02     153.18\n",
      "2018-02-20  171.850006  166.34     179.10     153.58\n",
      "2018-02-21  171.070007  166.04     178.00     154.08\n",
      "2018-02-22  172.500000  165.96     177.70     154.22\n",
      "2018-02-23  175.500000  166.18     178.48     153.88\n",
      "2018-02-26  178.970001  166.55     179.93     153.17\n",
      "2018-02-27  178.389999  167.07     181.47     152.67\n",
      "2018-02-28  178.119995  167.63     182.85     152.41\n",
      "2018-03-01  175.000000  168.01     183.57     152.45\n",
      "2018-03-02  176.210007  168.43     184.43     152.43\n",
      "2018-03-05  176.820007  169.24     185.20     153.28\n",
      "2018-03-06  176.669998  170.25     185.33     155.17\n",
      "2018-03-07  175.029999  170.85     185.69     156.01\n",
      "2018-03-08  176.940002  171.72     185.78     157.66\n",
      "2018-03-09  179.979996  172.97     185.13     160.81\n",
      "2018-03-12  181.720001  174.23     184.19     164.27\n",
      "2018-03-13  179.970001  175.09     183.77     166.41\n",
      "\n",
      "[8049 rows x 4 columns]               decision\n",
      "date                  \n",
      "1986-04-09  Buy & Sell\n",
      "1986-04-10  Buy & Sell\n",
      "1986-04-11  Buy & Sell\n",
      "1986-04-14  Buy & Sell\n",
      "1986-04-15  Buy & Sell\n",
      "1986-04-16  Buy & Sell\n",
      "1986-04-17        Sell\n",
      "1986-04-18        Sell\n",
      "1986-04-21        Sell\n",
      "1986-04-22        Sell\n",
      "1986-04-23        Sell\n",
      "1986-04-24        Sell\n",
      "1986-04-25        Sell\n",
      "1986-04-28        Sell\n",
      "1986-04-29        Sell\n",
      "1986-04-30  Buy & Sell\n",
      "1986-05-01  Buy & Sell\n",
      "1986-05-02  Buy & Sell\n",
      "1986-05-05  Buy & Sell\n",
      "1986-05-06        Sell\n",
      "1986-05-07  Buy & Sell\n",
      "1986-05-08  Buy & Sell\n",
      "1986-05-09  Buy & Sell\n",
      "1986-05-12        Sell\n",
      "1986-05-13        Sell\n",
      "1986-05-14        Sell\n",
      "1986-05-15        Sell\n",
      "1986-05-16  Buy & Sell\n",
      "1986-05-19  Buy & Sell\n",
      "1986-05-20  Buy & Sell\n",
      "...                ...\n",
      "2018-01-30         Buy\n",
      "2018-01-31         Buy\n",
      "2018-02-01  Buy & Sell\n",
      "2018-02-02         Buy\n",
      "2018-02-05         Buy\n",
      "2018-02-06         Buy\n",
      "2018-02-07  Buy & Sell\n",
      "2018-02-08  Buy & Sell\n",
      "2018-02-09         Buy\n",
      "2018-02-12  Buy & Sell\n",
      "2018-02-13  Buy & Sell\n",
      "2018-02-14  Buy & Sell\n",
      "2018-02-15  Buy & Sell\n",
      "2018-02-16  Buy & Sell\n",
      "2018-02-20  Buy & Sell\n",
      "2018-02-21  Buy & Sell\n",
      "2018-02-22  Buy & Sell\n",
      "2018-02-23  Buy & Sell\n",
      "2018-02-26  Buy & Sell\n",
      "2018-02-27  Buy & Sell\n",
      "2018-02-28  Buy & Sell\n",
      "2018-03-01  Buy & Sell\n",
      "2018-03-02  Buy & Sell\n",
      "2018-03-05  Buy & Sell\n",
      "2018-03-06  Buy & Sell\n",
      "2018-03-07  Buy & Sell\n",
      "2018-03-08  Buy & Sell\n",
      "2018-03-09  Buy & Sell\n",
      "2018-03-12  Buy & Sell\n",
      "2018-03-13  Buy & Sell\n",
      "\n",
      "[8049 rows x 1 columns] [['Buy & Sell']\n",
      " ['Buy & Sell']\n",
      " ['Buy & Sell']\n",
      " ...\n",
      " ['Buy & Sell']\n",
      " ['Buy & Sell']\n",
      " ['Buy & Sell']]\n"
     ]
    }
   ],
   "source": [
    "x,y,npY = extractBolingerFeatures(df)\n",
    "print(x,y,npY)"
   ]
  },
  {
   "cell_type": "markdown",
   "metadata": {},
   "source": [
    "### ApplyDecisionTreeModel"
   ]
  },
  {
   "cell_type": "code",
   "execution_count": 9,
   "metadata": {},
   "outputs": [],
   "source": [
    "def ApplyDecisionTreeModel(fetures,label,predictList):\n",
    "    dtc = DecisionTreeClassifier(criterion='entropy')\n",
    "    dtc.fit(fetures,label)\n",
    "    y_predict = str(dtc.predict(predictList))\n",
    "    return y_predict"
   ]
  },
  {
   "cell_type": "markdown",
   "metadata": {},
   "source": [
    "### test ApplyDecisionTreeModel"
   ]
  },
  {
   "cell_type": "code",
   "execution_count": 10,
   "metadata": {},
   "outputs": [
    {
     "name": "stdout",
     "output_type": "stream",
     "text": [
      "['Buy & Sell']\n"
     ]
    }
   ],
   "source": [
    "# date = '2018-03-07'\n",
    "adj_close = 175.029999\n",
    "midband = 170.85\n",
    "upperband = 185.69\n",
    "lowerband = 156.01\n",
    "predictCol = [[175.02999,170.85,185.69,156.01]]\n",
    "result = ApplyDecisionTreeModel(x,y,predictCol)\n",
    "print(result)"
   ]
  },
  {
   "cell_type": "markdown",
   "metadata": {},
   "source": [
    "## prepairing Decesion model"
   ]
  },
  {
   "cell_type": "code",
   "execution_count": 11,
   "metadata": {},
   "outputs": [],
   "source": [
    "dtc = DecisionTreeClassifier(criterion='entropy')"
   ]
  },
  {
   "cell_type": "markdown",
   "metadata": {},
   "source": [
    "## Split dataset into test and train parts"
   ]
  },
  {
   "cell_type": "code",
   "execution_count": 12,
   "metadata": {},
   "outputs": [],
   "source": [
    "X_train, X_test, y_train, y_test = train_test_split(x,y, test_size=0.2, random_state=3)"
   ]
  },
  {
   "cell_type": "markdown",
   "metadata": {},
   "source": [
    "## basic c4.5 test"
   ]
  },
  {
   "cell_type": "code",
   "execution_count": 13,
   "metadata": {},
   "outputs": [
    {
     "name": "stdout",
     "output_type": "stream",
     "text": [
      "77.95031055900621\n"
     ]
    }
   ],
   "source": [
    "dtc.fit(X_train,y_train)\n",
    "y_predict = dtc.predict(X_test)\n",
    "print(float(accuracy_score(y_test, y_predict)) *100)"
   ]
  }
 ],
 "metadata": {
  "kernelspec": {
   "display_name": "Python 3",
   "language": "python",
   "name": "python3"
  },
  "language_info": {
   "codemirror_mode": {
    "name": "ipython",
    "version": 3
   },
   "file_extension": ".py",
   "mimetype": "text/x-python",
   "name": "python",
   "nbconvert_exporter": "python",
   "pygments_lexer": "ipython3",
   "version": "3.6.3"
  }
 },
 "nbformat": 4,
 "nbformat_minor": 2
}
