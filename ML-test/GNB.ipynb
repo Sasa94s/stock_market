{
 "cells": [
  {
   "cell_type": "markdown",
   "metadata": {},
   "source": [
    "# sk-learn import"
   ]
  },
  {
   "cell_type": "code",
   "execution_count": 36,
   "metadata": {},
   "outputs": [],
   "source": [
    "from sklearn.datasets import load_breast_cancer\n",
    "from sklearn.model_selection import train_test_split\n",
    "from sklearn.naive_bayes import GaussianNB\n",
    "from sklearn.metrics import accuracy_score"
   ]
  },
  {
   "cell_type": "markdown",
   "metadata": {},
   "source": [
    "# For data manipulation"
   ]
  },
  {
   "cell_type": "code",
   "execution_count": 37,
   "metadata": {},
   "outputs": [],
   "source": [
    "import pandas as pd\n",
    "\n",
    "import numpy as np"
   ]
  },
  {
   "cell_type": "markdown",
   "metadata": {},
   "source": [
    "# To plot"
   ]
  },
  {
   "cell_type": "code",
   "execution_count": 38,
   "metadata": {},
   "outputs": [],
   "source": [
    "import matplotlib.pyplot as plt\n",
    "\n",
    "import seaborn"
   ]
  },
  {
   "cell_type": "markdown",
   "metadata": {},
   "source": [
    "# sql import"
   ]
  },
  {
   "cell_type": "code",
   "execution_count": 39,
   "metadata": {},
   "outputs": [],
   "source": [
    "import psycopg2\n",
    "import datetime\n"
   ]
  },
  {
   "cell_type": "markdown",
   "metadata": {},
   "source": [
    "# Load dataset Read sqlite query results into a pandas DataFrame"
   ]
  },
  {
   "cell_type": "code",
   "execution_count": 40,
   "metadata": {},
   "outputs": [],
   "source": [
    "### Database connection\n",
    "\n",
    "conn_string = \"host='localhost' dbname='stockmarket' user='postgres' password='123456'\"\n",
    "conn = psycopg2.connect(conn_string)\n",
    "\n",
    "## Read dataset\n",
    "\n",
    "df = pd.read_sql_query(\n",
    "    '''select i.date ,i.open ,i.high ,i.low ,i.close ,i.adj_close ,i.volume ,c.name\n",
    "    from information i \n",
    "    join company c\n",
    "    on i.company_id=c.id\n",
    "    where company_id = {}'''.format(3)  , conn, index_col='date')\n",
    "df.index = pd.to_datetime(df.index)\n"
   ]
  },
  {
   "cell_type": "markdown",
   "metadata": {},
   "source": [
    "# Verify that result of SQL query is stored in the dataframe\n"
   ]
  },
  {
   "cell_type": "code",
   "execution_count": 41,
   "metadata": {},
   "outputs": [
    {
     "name": "stdout",
     "output_type": "stream",
     "text": [
      "                open      high       low     close  adj_close      volume  \\\n",
      "date                                                                        \n",
      "1986-03-12  0.444196  0.448661  0.441964  0.441964   0.020108  21420000.0   \n",
      "1986-03-13  0.441964  0.446429  0.435268  0.441964   0.020108  28991200.0   \n",
      "1986-03-14  0.441964  0.468750  0.441964  0.466518   0.021225  96213600.0   \n",
      "1986-03-17  0.464286  0.464286  0.453125  0.464286   0.021123  29680000.0   \n",
      "1986-03-18  0.464286  0.486607  0.462054  0.479911   0.021834  62339200.0   \n",
      "\n",
      "            name  \n",
      "date              \n",
      "1986-03-12  AAPL  \n",
      "1986-03-13  AAPL  \n",
      "1986-03-14  AAPL  \n",
      "1986-03-17  AAPL  \n",
      "1986-03-18  AAPL  \n"
     ]
    }
   ],
   "source": [
    "print(df.head())"
   ]
  },
  {
   "cell_type": "markdown",
   "metadata": {},
   "source": [
    "## adding  features"
   ]
  },
  {
   "cell_type": "code",
   "execution_count": 42,
   "metadata": {},
   "outputs": [],
   "source": [
    "conn.close()\n",
    "\n",
    "df= df.dropna()\n",
    "\n",
    "df['open-close'] = df.open - df.close\n",
    "\n",
    "df['high-low'] = df.high - df.low"
   ]
  },
  {
   "cell_type": "markdown",
   "metadata": {},
   "source": [
    "# Organize our data and select the target values"
   ]
  },
  {
   "cell_type": "code",
   "execution_count": 43,
   "metadata": {},
   "outputs": [
    {
     "name": "stdout",
     "output_type": "stream",
     "text": [
      "                open      high       low     close  adj_close      volume  \\\n",
      "date                                                                        \n",
      "1986-03-12  0.444196  0.448661  0.441964  0.441964   0.020108  21420000.0   \n",
      "1986-03-13  0.441964  0.446429  0.435268  0.441964   0.020108  28991200.0   \n",
      "1986-03-14  0.441964  0.468750  0.441964  0.466518   0.021225  96213600.0   \n",
      "1986-03-17  0.464286  0.464286  0.453125  0.464286   0.021123  29680000.0   \n",
      "1986-03-18  0.464286  0.486607  0.462054  0.479911   0.021834  62339200.0   \n",
      "\n",
      "            open-close  high-low  \n",
      "date                              \n",
      "1986-03-12    0.002232  0.006697  \n",
      "1986-03-13    0.000000  0.011161  \n",
      "1986-03-14   -0.024554  0.026786  \n",
      "1986-03-17    0.000000  0.011161  \n",
      "1986-03-18   -0.015625  0.024553   \n",
      " [ 1 -1  1 -1]\n"
     ]
    }
   ],
   "source": [
    "feature_cols = ['open','high','low','close','adj_close','volume','open-close','high-low']\n",
    "\n",
    "x = df[feature_cols]\n",
    "\n",
    "y = y = np.where(df['close'].shift(-1) > df['close'], 1, -1)\n",
    "\n",
    "print(x.head(),'\\n',y[1:5])"
   ]
  },
  {
   "cell_type": "markdown",
   "metadata": {},
   "source": [
    "# Split our data"
   ]
  },
  {
   "cell_type": "code",
   "execution_count": 44,
   "metadata": {},
   "outputs": [],
   "source": [
    "x_train,x_test,y_train,y_test = train_test_split(x,y,test_size = 0.2, random_state=4)"
   ]
  },
  {
   "cell_type": "markdown",
   "metadata": {},
   "source": [
    "# Initialize our classifier"
   ]
  },
  {
   "cell_type": "code",
   "execution_count": 45,
   "metadata": {},
   "outputs": [],
   "source": [
    "gnb = GaussianNB()"
   ]
  },
  {
   "cell_type": "markdown",
   "metadata": {},
   "source": [
    "# Train our classifier"
   ]
  },
  {
   "cell_type": "code",
   "execution_count": 46,
   "metadata": {},
   "outputs": [],
   "source": [
    "model = gnb.fit(x_train,y_train)\n"
   ]
  },
  {
   "cell_type": "markdown",
   "metadata": {},
   "source": [
    "# Make predictions"
   ]
  },
  {
   "cell_type": "code",
   "execution_count": 47,
   "metadata": {},
   "outputs": [
    {
     "name": "stdout",
     "output_type": "stream",
     "text": [
      "date\n",
      "1986-03-12   -1\n",
      "1986-03-13   -1\n",
      "1986-03-14   -1\n",
      "1986-03-17   -1\n",
      "1986-03-18   -1\n",
      "Name: Predicted_Signal, dtype: int32\n"
     ]
    }
   ],
   "source": [
    "df['Predicted_Signal']= gnb.predict(x)\n",
    "\n",
    "print(df['Predicted_Signal'].head())"
   ]
  },
  {
   "cell_type": "markdown",
   "metadata": {},
   "source": [
    "# Cumulative Returns"
   ]
  },
  {
   "cell_type": "code",
   "execution_count": 48,
   "metadata": {
    "scrolled": true
   },
   "outputs": [
    {
     "name": "stdout",
     "output_type": "stream",
     "text": [
      "HEAD OF RETURNS \n",
      " date\n",
      "1986-03-12         NaN\n",
      "1986-03-13    0.000000\n",
      "1986-03-14    0.054068\n",
      "1986-03-17   -0.004796\n",
      "1986-03-18    0.033100\n",
      "Name: Returns, dtype: float64 \n",
      "\n",
      "\n",
      "\n",
      " TAIL OF RETURNS \n",
      " date\n",
      "2018-03-07   -0.009326\n",
      "2018-03-08    0.010853\n",
      "2018-03-09    0.017035\n",
      "2018-03-12    0.009621\n",
      "2018-03-13   -0.009677\n",
      "Name: Returns, dtype: float64 \n",
      "\n",
      "\n",
      "\n",
      " TAIL OF CUMULATIVE RETURNS \n",
      " date\n",
      "2011-10-12    0.473537\n",
      "2011-10-13    2.013125\n",
      "2011-10-14    5.281604\n",
      "2011-10-17    4.804167\n",
      "2011-10-18    5.338462\n",
      "Name: Returns, dtype: float64 \n",
      "\n",
      "\n",
      "\n",
      " HEAD OF CUMULATIVE RETURNS \n",
      " date\n",
      "2018-03-07    111.867828\n",
      "2018-03-08    112.953160\n",
      "2018-03-09    114.656661\n",
      "2018-03-12    115.618794\n",
      "2018-03-13    114.651107\n",
      "Name: Returns, dtype: float64\n"
     ]
    }
   ],
   "source": [
    "split = int(0.8*len(df))\n",
    "df['Returns'] = np.log(df['close']/df['close'].shift(1))\n",
    "Cumulative_Returns = df[split:]['Returns'].cumsum()*100\n",
    "print('HEAD OF RETURNS','\\n',df['Returns'].head(),'\\n\\n\\n\\n','TAIL OF RETURNS','\\n',df['Returns'].tail(),'\\n\\n\\n\\n','TAIL OF CUMULATIVE RETURNS','\\n',Cumulative_Returns.head(),'\\n\\n\\n\\n','HEAD OF CUMULATIVE RETURNS','\\n',Cumulative_Returns.tail())"
   ]
  },
  {
   "cell_type": "markdown",
   "metadata": {},
   "source": [
    "# Cumulative Startegy Returns"
   ]
  },
  {
   "cell_type": "code",
   "execution_count": 49,
   "metadata": {},
   "outputs": [
    {
     "name": "stdout",
     "output_type": "stream",
     "text": [
      "HEAD OF STRATEGY RETURNS \n",
      " date\n",
      "1986-03-12         NaN\n",
      "1986-03-13   -0.000000\n",
      "1986-03-14   -0.054068\n",
      "1986-03-17    0.004796\n",
      "1986-03-18   -0.033100\n",
      "Name: Strategy_Returns, dtype: float64 \n",
      "\n",
      "\n",
      "\n",
      " TAIL OF STRATEGY RETURNS \n",
      " date\n",
      "2018-03-07    0.009326\n",
      "2018-03-08   -0.010853\n",
      "2018-03-09   -0.017035\n",
      "2018-03-12   -0.009621\n",
      "2018-03-13    0.009677\n",
      "Name: Strategy_Returns, dtype: float64 \n",
      "\n",
      "\n",
      "\n",
      " TAIL OF CUMULATIVE STRATEGY RETURNS \n",
      " date\n",
      "2011-10-12    0.473537\n",
      "2011-10-13    2.013125\n",
      "2011-10-14   -1.255353\n",
      "2011-10-17   -1.732789\n",
      "2011-10-18   -1.198495\n",
      "Name: Strategy_Returns, dtype: float64 \n",
      "\n",
      "\n",
      "\n",
      " HEAD OF CUMULATIVE STRATEGY RETURNS \n",
      " date\n",
      "2018-03-07    -97.138598\n",
      "2018-03-08    -98.223931\n",
      "2018-03-09    -99.927431\n",
      "2018-03-12   -100.889565\n",
      "2018-03-13    -99.921878\n",
      "Name: Strategy_Returns, dtype: float64\n"
     ]
    }
   ],
   "source": [
    "df['Strategy_Returns'] = df['Returns'] * df['Predicted_Signal'].shift(1)\n",
    "\n",
    "Cum_Strategy_Returns = df[split:]['Strategy_Returns'].cumsum()*100\n",
    "\n",
    "print('HEAD OF STRATEGY RETURNS','\\n',df['Strategy_Returns'].head(),'\\n\\n\\n\\n','TAIL OF STRATEGY RETURNS','\\n',df['Strategy_Returns'].tail(),'\\n\\n\\n\\n','TAIL OF CUMULATIVE STRATEGY RETURNS','\\n',Cum_Strategy_Returns.head(),'\\n\\n\\n\\n','HEAD OF CUMULATIVE STRATEGY RETURNS','\\n',Cum_Strategy_Returns.tail())"
   ]
  },
  {
   "cell_type": "markdown",
   "metadata": {},
   "source": [
    "# Plot the results to visualize the performance"
   ]
  },
  {
   "cell_type": "code",
   "execution_count": 50,
   "metadata": {},
   "outputs": [
    {
     "data": {
      "image/png": "[encoded data removed]",
      "text/plain": [
       "<Figure size 1440x504 with 1 Axes>"
      ]
     },
     "metadata": {},
     "output_type": "display_data"
    }
   ],
   "source": [
    "plt.figure(figsize=(20, 7))\n",
    "\n",
    "plt.plot(Cumulative_Returns, color='r', label='Returns')\n",
    "\n",
    "plt.plot(Cum_Strategy_Returns, color='g', label='Strategy Returns')\n",
    "\n",
    "plt.legend()\n",
    "\n",
    "plt.show()"
   ]
  },
  {
   "cell_type": "markdown",
   "metadata": {},
   "source": [
    "# calculate sharpe ratio\n"
   ]
  },
  {
   "cell_type": "markdown",
   "metadata": {},
   "source": [
    "\n",
    "### The Sharpe ratio is the return earned in excess of the market return per unit of volatility.First, we will calculate the standard deviation of the cumulative returns,and use it further to calculate the Sharpe ratio"
   ]
  },
  {
   "cell_type": "code",
   "execution_count": 51,
   "metadata": {},
   "outputs": [
    {
     "name": "stdout",
     "output_type": "stream",
     "text": [
      "sharpe ratio: -3.21\n",
      "                open      high       low     close  adj_close      volume  \\\n",
      "date                                                                        \n",
      "1986-03-12  0.444196  0.448661  0.441964  0.441964   0.020108  21420000.0   \n",
      "1986-03-13  0.441964  0.446429  0.435268  0.441964   0.020108  28991200.0   \n",
      "1986-03-14  0.441964  0.468750  0.441964  0.466518   0.021225  96213600.0   \n",
      "1986-03-17  0.464286  0.464286  0.453125  0.464286   0.021123  29680000.0   \n",
      "1986-03-18  0.464286  0.486607  0.462054  0.479911   0.021834  62339200.0   \n",
      "\n",
      "            name  open-close  high-low  Predicted_Signal   Returns  \\\n",
      "date                                                                 \n",
      "1986-03-12  AAPL    0.002232  0.006697                -1       NaN   \n",
      "1986-03-13  AAPL    0.000000  0.011161                -1  0.000000   \n",
      "1986-03-14  AAPL   -0.024554  0.026786                -1  0.054068   \n",
      "1986-03-17  AAPL    0.000000  0.011161                -1 -0.004796   \n",
      "1986-03-18  AAPL   -0.015625  0.024553                -1  0.033100   \n",
      "\n",
      "            Strategy_Returns  \n",
      "date                          \n",
      "1986-03-12               NaN  \n",
      "1986-03-13         -0.000000  \n",
      "1986-03-14         -0.054068  \n",
      "1986-03-17          0.004796  \n",
      "1986-03-18         -0.033100  \n"
     ]
    }
   ],
   "source": [
    "std = Cum_Strategy_Returns.std()\n",
    "\n",
    "sharpe = (Cum_Strategy_Returns-Cumulative_Returns)/std\n",
    "\n",
    "sharpe = sharpe.mean()\n",
    "\n",
    "print('sharpe ratio: %.2f' % sharpe)\n",
    "\n",
    "print(df.head())"
   ]
  }
 ],
 "metadata": {
  "kernelspec": {
   "display_name": "Python 3",
   "language": "python",
   "name": "python3"
  },
  "language_info": {
   "codemirror_mode": {
    "name": "ipython",
    "version": 3
   },
   "file_extension": ".py",
   "mimetype": "text/x-python",
   "name": "python",
   "nbconvert_exporter": "python",
   "pygments_lexer": "ipython3",
   "version": "3.6.4"
  }
 },
 "nbformat": 4,
 "nbformat_minor": 2
}
